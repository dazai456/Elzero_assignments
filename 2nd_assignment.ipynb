{
 "cells": [
  {
   "cell_type": "markdown",
   "id": "ce3a881b-80ff-430f-a005-cfee4ca7e1ee",
   "metadata": {},
   "source": [
    "# 011 => 015"
   ]
  },
  {
   "cell_type": "markdown",
   "id": "794868c8-d129-4b0f-9c26-d3f5a9340833",
   "metadata": {},
   "source": [
    "#### 01st"
   ]
  },
  {
   "cell_type": "code",
   "execution_count": 1,
   "id": "15c1ce83-0af6-47eb-9e89-71438115d4f1",
   "metadata": {
    "tags": []
   },
   "outputs": [
    {
     "name": "stdout",
     "output_type": "stream",
     "text": [
      "Hello 'Ibrahim', How You Doing \\ \"\"\" Your Age Is \"21\"\" + And Your Country Is: Egypt\n"
     ]
    }
   ],
   "source": [
    "name = 'Ibrahim'\n",
    "age = '21'\n",
    "region = 'Egypt'\n",
    "\n",
    "print(f'Hello \\'{name}\\', How You Doing \\ \"\"\" Your Age Is \"{age}\"\" + And Your Country Is: {region}')"
   ]
  },
  {
   "cell_type": "markdown",
   "id": "eaf29f5b-d5b1-4283-8416-946ebc75ecff",
   "metadata": {},
   "source": [
    "#### 02nd"
   ]
  },
  {
   "cell_type": "code",
   "execution_count": 2,
   "id": "7bc93a06-cd08-41e5-96f5-540c6e4e9041",
   "metadata": {
    "tags": []
   },
   "outputs": [
    {
     "name": "stdout",
     "output_type": "stream",
     "text": [
      "Hello 'Ibrahim', How You Doing \\ \n",
      "\"\"\" Your Age Is \"21\"\" +\n",
      "And Your Country Is: Egypt\n"
     ]
    }
   ],
   "source": [
    "print(f'Hello \\'{name}\\', How You Doing \\ \\n\"\"\" Your Age Is \"{age}\"\" +\\nAnd Your Country Is: {region}')"
   ]
  },
  {
   "cell_type": "markdown",
   "id": "bbe5f29b-7a38-4256-a83d-9d71bf93a84d",
   "metadata": {},
   "source": [
    "#### 03rd"
   ]
  },
  {
   "cell_type": "code",
   "execution_count": 3,
   "id": "e2cc154e-040b-446a-b82b-83ba248974d8",
   "metadata": {
    "tags": []
   },
   "outputs": [
    {
     "name": "stdout",
     "output_type": "stream",
     "text": [
      "l\n",
      "z\n",
      "o\n"
     ]
    }
   ],
   "source": [
    "name_01 = 'Elzero'\n",
    "\n",
    "# Needed Output\n",
    "# Second Letter Is \"l\"\n",
    "print(name_01[1])\n",
    "\n",
    "# Third Letter Is \"z\"\n",
    "print(name_01[2])\n",
    "\n",
    "# Last Letter Is \"o\"\n",
    "print(name_01[-1])\n"
   ]
  },
  {
   "cell_type": "markdown",
   "id": "7f3872f8-fbb5-471f-809e-5d7ad8d6d8ff",
   "metadata": {},
   "source": [
    "#### 04th"
   ]
  },
  {
   "cell_type": "code",
   "execution_count": 10,
   "id": "0f48724b-36e5-4b13-a822-3770dd626387",
   "metadata": {
    "tags": []
   },
   "outputs": [
    {
     "name": "stdout",
     "output_type": "stream",
     "text": [
      "lze\n",
      "Ezr\n",
      "rzE\n"
     ]
    }
   ],
   "source": [
    "# Needed Output\n",
    "# \"lze\"\n",
    "print(name_01[1:4])\n",
    "\n",
    "# \"Ezr\"\n",
    "print(name_01[::2])\n",
    "\n",
    "# \"rzE\"\n",
    "print(name_01[-2::-2])\n"
   ]
  },
  {
   "cell_type": "markdown",
   "id": "43f1c1b7-b91d-4cd1-9036-e7de0c236925",
   "metadata": {},
   "source": [
    "#### 05th"
   ]
  },
  {
   "cell_type": "code",
   "execution_count": 14,
   "id": "74e727b7-f098-4555-b035-670506946f37",
   "metadata": {
    "tags": []
   },
   "outputs": [
    {
     "data": {
      "text/plain": [
       "'Elzero'"
      ]
     },
     "execution_count": 14,
     "metadata": {},
     "output_type": "execute_result"
    }
   ],
   "source": [
    "name = \"#@#@Elzero#@#@\"\n",
    "name.strip(\"#@\")"
   ]
  },
  {
   "cell_type": "markdown",
   "id": "445c72d1-3931-4c75-96bd-a7f55eab4de2",
   "metadata": {},
   "source": [
    "#### 06th"
   ]
  },
  {
   "cell_type": "code",
   "execution_count": 17,
   "id": "a186b3b2-7bed-4512-8e1e-b43a06ff3c23",
   "metadata": {
    "tags": []
   },
   "outputs": [
    {
     "data": {
      "text/plain": [
       "'0015'"
      ]
     },
     "execution_count": 17,
     "metadata": {},
     "output_type": "execute_result"
    }
   ],
   "source": [
    "# num = \"9\"\n",
    "num = \"15\"\n",
    "# num = \"130\"\n",
    "# num = \"950\"\n",
    "# num = \"1500\"\n",
    "num.zfill(4)"
   ]
  },
  {
   "cell_type": "markdown",
   "id": "b8da8af0-01bd-4322-a640-e58b1734b511",
   "metadata": {},
   "source": [
    "#### 07th"
   ]
  },
  {
   "cell_type": "code",
   "execution_count": 20,
   "id": "0299ecc8-53f0-4948-bc51-57c6b6254fbc",
   "metadata": {
    "tags": []
   },
   "outputs": [
    {
     "name": "stdout",
     "output_type": "stream",
     "text": [
      "@@@@@@@@@@@@@@@Osama\n",
      "@@@@@@@@Osama_Elzero\n"
     ]
    }
   ],
   "source": [
    "name_one = \"Osama\"\n",
    "name_two = \"Osama_Elzero\"\n",
    "\n",
    "# Needed Output\n",
    "# @@@@@@@@@@@@@@@Osama\n",
    "print(name_one.rjust(20,\"@\"))\n",
    "\n",
    "# @@@@@@@@Osama_Elzero\n",
    "print(name_two.rjust(20,\"@\"))"
   ]
  },
  {
   "cell_type": "markdown",
   "id": "3d53805a-8215-44fd-a78b-cf9b1f951d5c",
   "metadata": {},
   "source": [
    "#### 08th"
   ]
  },
  {
   "cell_type": "code",
   "execution_count": 26,
   "id": "94bb19e1-f17c-45cc-aaec-d630f824bb75",
   "metadata": {
    "tags": []
   },
   "outputs": [
    {
     "name": "stdout",
     "output_type": "stream",
     "text": [
      "osAMa\n",
      "OSAma\n"
     ]
    }
   ],
   "source": [
    "name_one = \"OSamA\"\n",
    "name_two = \"osaMA\"\n",
    "\n",
    "# Needed Output\n",
    "# osAMa\n",
    "print(name_one.swapcase())\n",
    "\n",
    "# OSAma\n",
    "print(name_two.swapcase())"
   ]
  },
  {
   "cell_type": "markdown",
   "id": "e1bb68aa-90f8-4cee-8eaf-d10080a1decd",
   "metadata": {},
   "source": [
    "#### 09th"
   ]
  },
  {
   "cell_type": "code",
   "execution_count": 28,
   "id": "e951e64a-b87e-478d-953c-dcc0f86506a0",
   "metadata": {
    "tags": []
   },
   "outputs": [
    {
     "data": {
      "text/plain": [
       "2"
      ]
     },
     "execution_count": 28,
     "metadata": {},
     "output_type": "execute_result"
    }
   ],
   "source": [
    "msg = \"I Love Python And Although Love Elzero Web School\"\n",
    "\n",
    "# Needed Output\n",
    "# 2\n",
    "msg.count('Love')"
   ]
  },
  {
   "cell_type": "markdown",
   "id": "3fbc5b7d-bdfd-492d-8741-ff302aee5bc3",
   "metadata": {},
   "source": [
    "#### 10th"
   ]
  },
  {
   "cell_type": "code",
   "execution_count": 29,
   "id": "e757a6e0-4efc-4633-8e8e-1b3e48f64f1b",
   "metadata": {
    "tags": []
   },
   "outputs": [
    {
     "data": {
      "text/plain": [
       "2"
      ]
     },
     "execution_count": 29,
     "metadata": {},
     "output_type": "execute_result"
    }
   ],
   "source": [
    "name = \"Elzero\"\n",
    "\n",
    "# Needed Output\n",
    "# 2\n",
    "name.index('z')"
   ]
  },
  {
   "cell_type": "markdown",
   "id": "ec00b24c-e18d-4bdb-b554-04bdd6f84e2e",
   "metadata": {},
   "source": [
    "#### 11th"
   ]
  },
  {
   "cell_type": "code",
   "execution_count": 31,
   "id": "ef9da45d-342a-4d08-9e0b-72c4ca47b5dd",
   "metadata": {
    "tags": []
   },
   "outputs": [
    {
     "data": {
      "text/plain": [
       "'I love Python And Although <3 Elzero Web School'"
      ]
     },
     "execution_count": 31,
     "metadata": {},
     "output_type": "execute_result"
    }
   ],
   "source": [
    "msg = \"I <3 Python And Although <3 Elzero Web School\"\n",
    "\n",
    "# Needed Output\n",
    "# I Love Python And Although <3 Elzero Web School\n",
    "msg.replace('<3', 'love',1)"
   ]
  },
  {
   "cell_type": "markdown",
   "id": "10a962f7-0ad7-4317-8ce4-45945aec87a5",
   "metadata": {},
   "source": [
    "#### 12th"
   ]
  },
  {
   "cell_type": "code",
   "execution_count": 32,
   "id": "c65ebcdb-452f-4e9b-9147-2cbdd32417e4",
   "metadata": {
    "tags": []
   },
   "outputs": [
    {
     "data": {
      "text/plain": [
       "'I love Python And Although love Elzero Web School'"
      ]
     },
     "execution_count": 32,
     "metadata": {},
     "output_type": "execute_result"
    }
   ],
   "source": [
    "# Needed Output\n",
    "# I Love Python And Although Love Elzero Web School\n",
    "msg.replace('<3', 'love')"
   ]
  },
  {
   "cell_type": "markdown",
   "id": "ac87dcdf-50f0-4acc-8c19-0c32ee63dd2d",
   "metadata": {},
   "source": [
    "#### 13th"
   ]
  },
  {
   "cell_type": "code",
   "execution_count": 34,
   "id": "66a4ea90-06ee-4610-9673-87156191f3c0",
   "metadata": {
    "tags": []
   },
   "outputs": [
    {
     "name": "stdout",
     "output_type": "stream",
     "text": [
      "My Name Is 'Elzero', And My Age Is \"21\"\", And My Country Is Egypt\n"
     ]
    }
   ],
   "source": [
    "# My Name Is Osama, And My Age Is 38, And My Country Is Egypt\n",
    "print(f'My Name Is \\'{name}\\', And My Age Is \"{age}\"\", And My Country Is {region}')"
   ]
  }
 ],
 "metadata": {
  "kernelspec": {
   "display_name": "Python 3 (ipykernel)",
   "language": "python",
   "name": "python3"
  },
  "language_info": {
   "codemirror_mode": {
    "name": "ipython",
    "version": 3
   },
   "file_extension": ".py",
   "mimetype": "text/x-python",
   "name": "python",
   "nbconvert_exporter": "python",
   "pygments_lexer": "ipython3",
   "version": "3.11.4"
  }
 },
 "nbformat": 4,
 "nbformat_minor": 5
}
