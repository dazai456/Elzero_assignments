{
 "cells": [
  {
   "cell_type": "markdown",
   "id": "7d467e44-2216-4cc7-8b72-a643e149bb2d",
   "metadata": {},
   "source": [
    "# 24 => 25"
   ]
  },
  {
   "cell_type": "markdown",
   "id": "6fa7d108-3dd8-4cce-ba66-bf02d26a39e6",
   "metadata": {},
   "source": [
    "#### 01"
   ]
  },
  {
   "cell_type": "code",
   "execution_count": 7,
   "id": "a89d9389-88de-475e-87b1-c9e70e421a25",
   "metadata": {
    "tags": []
   },
   "outputs": [
    {
     "name": "stdout",
     "output_type": "stream",
     "text": [
      "Osama\n",
      "<class 'tuple'>\n"
     ]
    }
   ],
   "source": [
    "# Needed Output\n",
    "Names = 'Osama',\n",
    "\n",
    "# \"Osama\"\n",
    "print(Names[0])\n",
    "# <class 'tuple'>\n",
    "print(type(Names))"
   ]
  },
  {
   "cell_type": "markdown",
   "id": "815104c0-d1fa-43a1-807a-596beb424759",
   "metadata": {},
   "source": [
    "#### 02"
   ]
  },
  {
   "cell_type": "code",
   "execution_count": 18,
   "id": "6c43b77a-ff0c-49e7-bb1c-c5df6dcd1c06",
   "metadata": {
    "tags": []
   },
   "outputs": [
    {
     "name": "stdout",
     "output_type": "stream",
     "text": [
      "('Elzero', 'Ahmed', 'Sayed')\n",
      "<class 'tuple'>\n",
      "3\n"
     ]
    }
   ],
   "source": [
    "friends = (\"Osama\", \"Ahmed\", \"Sayed\")\n",
    "\n",
    "# Needed Output\n",
    "\n",
    "# (\"Elzero\", \"Ahmed\", \"Sayed\")\n",
    "friends = tuple(['Elzero' if i == 'Osama' else i for i in friends]) # first method\n",
    "friends = ('Elzero',) + friends[1:] # second method\n",
    "print(friends)\n",
    "\n",
    "# <class 'tuple'>\n",
    "print(type(friends))\n",
    "\n",
    "# 3 Elements\n",
    "print(len(friends))"
   ]
  },
  {
   "cell_type": "markdown",
   "id": "e586fa7d-0d4e-4ba3-9270-4ef4918fdd16",
   "metadata": {},
   "source": [
    "#### 03"
   ]
  },
  {
   "cell_type": "code",
   "execution_count": 21,
   "id": "39aa26e7-9712-4ea4-8bfb-d38b7214b371",
   "metadata": {
    "tags": []
   },
   "outputs": [
    {
     "name": "stdout",
     "output_type": "stream",
     "text": [
      "(1, 2, 3, 'A', 'B', 'C')\n",
      "6\n"
     ]
    }
   ],
   "source": [
    "nums = (1, 2, 3)\n",
    "letters = (\"A\", \"B\", \"C\")\n",
    "\n",
    "# Needed Output\n",
    "nums_and_letters_one = nums + letters\n",
    "# nums_and_letters_one = (1, 2, 3, \"A\", \"B\", \"C\")\n",
    "print(nums_and_letters_one)\n",
    "\n",
    "# 6 Elements\n",
    "print(len(nums_and_letters_one))"
   ]
  },
  {
   "cell_type": "markdown",
   "id": "3ea0f50b-c625-4416-a707-ac15a9ef262a",
   "metadata": {},
   "source": [
    "#### 04"
   ]
  },
  {
   "cell_type": "code",
   "execution_count": 25,
   "id": "a7945bc8-84e8-4893-a44c-919518a009c8",
   "metadata": {
    "tags": []
   },
   "outputs": [
    {
     "name": "stdout",
     "output_type": "stream",
     "text": [
      "1\n",
      "2\n",
      "4\n"
     ]
    }
   ],
   "source": [
    "my_tuple = (1, 2, 3, 4)\n",
    "\n",
    "# Needed Output\n",
    "a,b,_,c = my_tuple\n",
    "# 1\n",
    "print(a)\n",
    "# 2\n",
    "print(b)\n",
    "# 4\n",
    "print(c)"
   ]
  }
 ],
 "metadata": {
  "kernelspec": {
   "display_name": "Python 3 (ipykernel)",
   "language": "python",
   "name": "python3"
  },
  "language_info": {
   "codemirror_mode": {
    "name": "ipython",
    "version": 3
   },
   "file_extension": ".py",
   "mimetype": "text/x-python",
   "name": "python",
   "nbconvert_exporter": "python",
   "pygments_lexer": "ipython3",
   "version": "3.11.4"
  }
 },
 "nbformat": 4,
 "nbformat_minor": 5
}
