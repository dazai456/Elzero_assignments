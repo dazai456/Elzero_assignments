{
 "cells": [
  {
   "cell_type": "markdown",
   "id": "40ac0d57-ac2a-4c55-8b5b-c26c4e11a994",
   "metadata": {},
   "source": [
    "# 26 => 32"
   ]
  },
  {
   "cell_type": "markdown",
   "id": "86aed4a5-99d6-41c1-b79f-57d56c563713",
   "metadata": {},
   "source": [
    "#### 01"
   ]
  },
  {
   "cell_type": "code",
   "execution_count": 10,
   "id": "21101388-e57b-4cf8-8121-8f5bb8353b1c",
   "metadata": {
    "tags": []
   },
   "outputs": [
    {
     "name": "stdout",
     "output_type": "stream",
     "text": [
      "[1, 2, 3, 4, 5]\n",
      "<class 'list'>\n",
      "[1, 2, 3, 4]\n"
     ]
    }
   ],
   "source": [
    "my_list = [1, 2, 3, 3, 4, 5, 1]\n",
    "# Needed Output\n",
    "\n",
    "# 1, 2, 3, 4, 5\n",
    "unique_list = [i for i in set(my_list)]\n",
    "print(unique_list)\n",
    "\n",
    "# <class 'list'>\n",
    "print(type(unique_list))\n",
    "\n",
    "# 1, 2, 3, 4\n",
    "print(unique_list[:-1])"
   ]
  },
  {
   "cell_type": "markdown",
   "id": "ce8f6537-bd61-4912-b574-4582349a2d9e",
   "metadata": {},
   "source": [
    "#### 02"
   ]
  },
  {
   "cell_type": "code",
   "execution_count": 31,
   "id": "8e71e03d-368d-4f28-8dd8-6ebc233b6266",
   "metadata": {
    "tags": []
   },
   "outputs": [
    {
     "name": "stdout",
     "output_type": "stream",
     "text": [
      "{1, 2, 3, 'B', 'C', 'A'}\n",
      "{1, 2, 3, 'B', 'C', 'A'}\n",
      "{1, 2, 3, 'B', 'C', 'A'}\n"
     ]
    }
   ],
   "source": [
    "nums = {1, 2, 3}\n",
    "letters = {\"A\", \"B\", \"C\"}\n",
    "\n",
    "# Needed Output\n",
    "# {1, 2, 3, \"A\", \"B\", \"C\"}\n",
    "print(nums | letters)\n",
    "\n",
    "# {1, 2, 3, \"A\", \"B\", \"C\"}\n",
    "new_set = nums.union(letters)\n",
    "print(new_set)\n",
    "\n",
    "# {1, 2, 3, \"A\", \"B\", \"C\"}\n",
    "nums.update(letters)\n",
    "print(nums)"
   ]
  },
  {
   "cell_type": "markdown",
   "id": "753c939a-0703-4578-aba3-f3814580f38b",
   "metadata": {},
   "source": [
    "#### 03"
   ]
  },
  {
   "cell_type": "code",
   "execution_count": 48,
   "id": "4f962151-8fe2-454e-879a-832e878535f4",
   "metadata": {
    "tags": []
   },
   "outputs": [
    {
     "name": "stdout",
     "output_type": "stream",
     "text": [
      "{1, 2, 3}\n",
      "set()\n",
      "{'B', 'A'}\n"
     ]
    }
   ],
   "source": [
    "my_set = {1, 2, 3}\n",
    "letters = {\"A\", \"B\", \"C\"}\n",
    "\n",
    "# Needed Output\n",
    "\n",
    "# {1, 2, 3}\n",
    "print(my_set)\n",
    "\n",
    "# set()\n",
    "my_set.clear()\n",
    "print(my_set)\n",
    "\n",
    "# {\"A\", \"B\"} || I Think there is a better solution\n",
    "letters.remove('C')\n",
    "my_set.update(letters)\n",
    "print(my_set)\n",
    "# my_set.remove('C')"
   ]
  },
  {
   "cell_type": "markdown",
   "id": "dbfabf04-a597-40f8-b2b3-fbb292af752d",
   "metadata": {},
   "source": [
    "#### 04"
   ]
  },
  {
   "cell_type": "code",
   "execution_count": 50,
   "id": "a125726e-f59e-4840-b6e9-6779c2e28cd4",
   "metadata": {
    "tags": []
   },
   "outputs": [
    {
     "data": {
      "text/plain": [
       "True"
      ]
     },
     "execution_count": 50,
     "metadata": {},
     "output_type": "execute_result"
    }
   ],
   "source": [
    "set_one = {1, 2, 3}\n",
    "set_two = {1, 2, 3, 4, 5, 6}\n",
    "\n",
    "# Needed Output\n",
    "\n",
    "# True\n",
    "set_one.issubset(set_two)"
   ]
  },
  {
   "cell_type": "code",
   "execution_count": 70,
   "id": "220f754b-ffe7-4dab-b062-e077899227c6",
   "metadata": {
    "tags": []
   },
   "outputs": [
    {
     "name": "stdout",
     "output_type": "stream",
     "text": [
      "Python\n",
      "Python Progress Is 60%\n",
      "javascript Progress Is 80%\n",
      "tableau Progress Is 20%\n",
      "excel Progress Is 70%\n"
     ]
    }
   ],
   "source": [
    "# Create Dictionary Here\n",
    "skills= {\n",
    "    'skill01': {\n",
    "      'name':'Python',\n",
    "      'progress':'60%',\n",
    "    },\n",
    "    'skill02':{\n",
    "      'name':'javascript',\n",
    "      'progress':'80%',\n",
    "    },\n",
    "    'skill03':{\n",
    "      'name':'tableau',\n",
    "      'progress':'20%',\n",
    "    }\n",
    "}\n",
    "# Needed Output\n",
    "print(skills['skill01']['name'])\n",
    "print(f\"{skills['skill01']['name']} Progress Is {skills['skill01']['progress']}\")\n",
    "print(f\"{skills['skill02']['name']} Progress Is {skills['skill02']['progress']}\")\n",
    "print(f\"{skills['skill03']['name']} Progress Is {skills['skill03']['progress']}\")\n",
    "\n",
    "skills['skill04'] = {\n",
    "    'name': 'excel',\n",
    "    'progress': '70%'\n",
    "}\n",
    "print(f\"{skills['skill04']['name']} Progress Is {skills['skill04']['progress']}\")"
   ]
  }
 ],
 "metadata": {
  "kernelspec": {
   "display_name": "Python 3 (ipykernel)",
   "language": "python",
   "name": "python3"
  },
  "language_info": {
   "codemirror_mode": {
    "name": "ipython",
    "version": 3
   },
   "file_extension": ".py",
   "mimetype": "text/x-python",
   "name": "python",
   "nbconvert_exporter": "python",
   "pygments_lexer": "ipython3",
   "version": "3.11.4"
  }
 },
 "nbformat": 4,
 "nbformat_minor": 5
}
