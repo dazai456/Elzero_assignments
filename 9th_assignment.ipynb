{
 "cells": [
  {
   "cell_type": "markdown",
   "id": "799aaa2a-240f-472c-8e0f-3b49f74fa4db",
   "metadata": {
    "tags": []
   },
   "source": [
    "# 41 => 46"
   ]
  },
  {
   "cell_type": "markdown",
   "id": "4f8bdf26-c39f-434f-ad9e-b8ef9e1184a2",
   "metadata": {},
   "source": [
    "#### 01"
   ]
  },
  {
   "cell_type": "code",
   "execution_count": 6,
   "id": "47689f66-26f8-44f4-95ea-10972fb77f9d",
   "metadata": {
    "tags": []
   },
   "outputs": [
    {
     "name": "stdin",
     "output_type": "stream",
     "text": [
      "Enter an operation:  /\n"
     ]
    },
    {
     "name": "stdout",
     "output_type": "stream",
     "text": [
      "0.5\n"
     ]
    }
   ],
   "source": [
    "# Inputs\n",
    "\n",
    "num1 = 20\n",
    "num2 = 40\n",
    "operation = input('Enter an operation: ')\n",
    "\n",
    "if operation == '+':\n",
    "    print(num1 + num2) \n",
    "elif operation == '-':\n",
    "    print(num1 - num2)\n",
    "elif operation == '*':\n",
    "    print(num1 * num2)\n",
    "elif operation == '/':\n",
    "    print(num1 / num2)\n",
    "elif operation == '%':\n",
    "    print(num1 % num2)\n",
    "# Needed Output\n",
    "\n",
    "# [num1 20] [operation +] [num2]\n",
    "# Example One 20 + 40 = 60\n",
    "# Example Two 20 * 40 = 800"
   ]
  },
  {
   "cell_type": "markdown",
   "id": "c21eea81-12fe-414e-8367-d5abe9c2efa3",
   "metadata": {},
   "source": [
    "#### 02"
   ]
  },
  {
   "cell_type": "code",
   "execution_count": 8,
   "id": "5df5fe8d-325f-440f-addd-82526acdadef",
   "metadata": {
    "tags": []
   },
   "outputs": [
    {
     "name": "stdout",
     "output_type": "stream",
     "text": [
      "App Is Not Suitable For You\n"
     ]
    }
   ],
   "source": [
    "age = 15\n",
    "\n",
    "# Needed Output\n",
    "print(\"App Is Suitable For You\" if age > 16 else \"App Is Not Suitable For You\")\n",
    "# \"App Is Suitable For You\" # If Age Larger Than 16\n",
    "# \"App Is Not Suitable For You\" # if Age Smaller Than 16"
   ]
  },
  {
   "cell_type": "markdown",
   "id": "47061711-ffd5-41e9-abbe-4ae1124988f9",
   "metadata": {},
   "source": [
    "#### 03"
   ]
  },
  {
   "cell_type": "code",
   "execution_count": 14,
   "id": "f718c30f-275b-4d3c-81c7-6ae7da4e155d",
   "metadata": {
    "tags": []
   },
   "outputs": [
    {
     "name": "stdin",
     "output_type": "stream",
     "text": [
      "Enter your age:  10\n"
     ]
    },
    {
     "name": "stdout",
     "output_type": "stream",
     "text": [
      "Your Age In Months Is 120 Months\n",
      "Your Age In Weeks Is 480 Weeks\n",
      "Your Age In Days Is 3360 Days\n"
     ]
    }
   ],
   "source": [
    "# Input Example 38\n",
    "age = int(input('Enter your age: '))\n",
    "if age < 10 or age > 100:\n",
    "    print('age is out of range')\n",
    "\n",
    "months = age * 12\n",
    "weeks = months * 4\n",
    "days = weeks * 7\n",
    "\n",
    "# Needed Output\n",
    "print(f\"Your Age In Months Is {months} Months\")\n",
    "print(f\"Your Age In Weeks Is {weeks} Weeks\")\n",
    "print(f\"Your Age In Days Is {days} Days\")"
   ]
  },
  {
   "cell_type": "markdown",
   "id": "c164e2dd-5266-4fb3-b49d-b0158490ed46",
   "metadata": {},
   "source": [
    "#### 04"
   ]
  },
  {
   "cell_type": "code",
   "execution_count": 24,
   "id": "b9c56343-5234-4c89-b9ea-ef60dde865bd",
   "metadata": {
    "tags": []
   },
   "outputs": [
    {
     "name": "stdin",
     "output_type": "stream",
     "text": [
      "Input Your Country egypt\n"
     ]
    },
    {
     "name": "stdout",
     "output_type": "stream",
     "text": [
      "Your Country Eligible For 100 And The Price After Discount Is $70\n"
     ]
    }
   ],
   "source": [
    "# Input Example One \"Egypt\"\n",
    "# Input Example Two \"Ghana\"\n",
    "\n",
    "country = input(\"Input Your Country\").strip().capitalize()\n",
    "countries = [\"Egypt\", \"Palestine\", \"Syria\", \"Yemen\", \"KSA\", \"USA\", \"Bahrain\", \"England\"]\n",
    "price = 100\n",
    "discount = 30\n",
    "\n",
    "# Needed Output\n",
    "if country in countries:\n",
    "    print(f\"Your Country Eligible For {price} And The Price After Discount Is ${price - discount}\")\n",
    "else:\n",
    "    print(f\"Your Country Not Eligible For Discount And The Price Is ${price}\")\n",
    "\n"
   ]
  },
  {
   "cell_type": "code",
   "execution_count": null,
   "id": "518916f6-dc2e-499c-9275-c21cbd41cfb2",
   "metadata": {},
   "outputs": [],
   "source": []
  }
 ],
 "metadata": {
  "kernelspec": {
   "display_name": "Python 3 (ipykernel)",
   "language": "python",
   "name": "python3"
  },
  "language_info": {
   "codemirror_mode": {
    "name": "ipython",
    "version": 3
   },
   "file_extension": ".py",
   "mimetype": "text/x-python",
   "name": "python",
   "nbconvert_exporter": "python",
   "pygments_lexer": "ipython3",
   "version": "3.11.4"
  }
 },
 "nbformat": 4,
 "nbformat_minor": 5
}
