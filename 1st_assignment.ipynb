{
 "cells": [
  {
   "cell_type": "markdown",
   "id": "8ce59d3a-6377-4bfa-9d75-048451df7a54",
   "metadata": {},
   "source": [
    "## 001 => 010\n",
    "this represents video in mastring python playlist"
   ]
  },
  {
   "cell_type": "markdown",
   "id": "40f0f7ad-0ac6-4276-8067-02b16e144dcc",
   "metadata": {},
   "source": [
    "#### 1st"
   ]
  },
  {
   "cell_type": "code",
   "execution_count": 5,
   "id": "b0b2a35e-fd82-4a0a-b18c-a3e9477590e8",
   "metadata": {
    "tags": []
   },
   "outputs": [],
   "source": [
    "# -------------------------------\n",
    "# ---------- Hello world --------\n",
    "# -------------------------------\n",
    "# ---------- Elzero -------------\n",
    "# -------------------------------"
   ]
  },
  {
   "cell_type": "markdown",
   "id": "c44f1f12-b9dd-45f5-925c-699d2ec22254",
   "metadata": {
    "tags": []
   },
   "source": [
    "#### 2nd"
   ]
  },
  {
   "cell_type": "code",
   "execution_count": 4,
   "id": "200b09cf-0bf2-4095-baf6-699b0e33fb18",
   "metadata": {
    "tags": []
   },
   "outputs": [],
   "source": [
    "name = 'Ibrahim'\n",
    "age = '21'\n",
    "region = 'Egypt'"
   ]
  },
  {
   "cell_type": "markdown",
   "id": "0c902675-1620-4c3a-b2d9-5ecd3120350e",
   "metadata": {},
   "source": [
    "#### 3rd"
   ]
  },
  {
   "cell_type": "code",
   "execution_count": 6,
   "id": "900bd9c5-3595-4412-a163-d53ba6abe0f0",
   "metadata": {
    "tags": []
   },
   "outputs": [
    {
     "name": "stdout",
     "output_type": "stream",
     "text": [
      "\"Name: Ibrahim\"\n",
      "\"Age: 21\"\n",
      "\"Country: Egypt\"\n"
     ]
    }
   ],
   "source": [
    "print(f'\"Name: {name}\"')\n",
    "print(f'\"Age: {age}\"')\n",
    "print(f'\"Country: {region}\"')"
   ]
  },
  {
   "cell_type": "markdown",
   "id": "869327f6-0b39-4714-ab17-7b72bf9f623e",
   "metadata": {
    "tags": []
   },
   "source": [
    "#### 4th\n"
   ]
  },
  {
   "cell_type": "code",
   "execution_count": 8,
   "id": "06603fb8-5ba5-45be-8b83-87e79d976ed7",
   "metadata": {
    "tags": []
   },
   "outputs": [
    {
     "name": "stdout",
     "output_type": "stream",
     "text": [
      "\"Hello, My Name Is Ibrahim And Iam 21 Years Old and I Live in Egypt.\"\n"
     ]
    }
   ],
   "source": [
    "print(f'\"Hello, My Name Is {name} And Iam {age} Years Old and I Live in {region}.\"')"
   ]
  },
  {
   "cell_type": "markdown",
   "id": "f1da36f3-2ab9-4548-9934-27b729f5f951",
   "metadata": {},
   "source": [
    "#### 5th"
   ]
  },
  {
   "cell_type": "code",
   "execution_count": 9,
   "id": "ff484f62-4fc2-463a-ba11-177d5881906c",
   "metadata": {
    "tags": []
   },
   "outputs": [
    {
     "name": "stdout",
     "output_type": "stream",
     "text": [
      "<class 'str'>\n",
      "<class 'str'>\n",
      "<class 'str'>\n"
     ]
    }
   ],
   "source": [
    "print(type(name))\n",
    "print(type(age))\n",
    "print(type(region))"
   ]
  }
 ],
 "metadata": {
  "kernelspec": {
   "display_name": "Python 3 (ipykernel)",
   "language": "python",
   "name": "python3"
  },
  "language_info": {
   "codemirror_mode": {
    "name": "ipython",
    "version": 3
   },
   "file_extension": ".py",
   "mimetype": "text/x-python",
   "name": "python",
   "nbconvert_exporter": "python",
   "pygments_lexer": "ipython3",
   "version": "3.11.4"
  }
 },
 "nbformat": 4,
 "nbformat_minor": 5
}
