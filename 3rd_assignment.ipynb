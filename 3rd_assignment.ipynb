{
 "cells": [
  {
   "cell_type": "markdown",
   "id": "34d278b4-8467-4f16-ac6a-2ed7623f1532",
   "metadata": {},
   "source": [
    "# 19 => 20"
   ]
  },
  {
   "cell_type": "markdown",
   "id": "bd724457-b3cf-433b-bee2-7ae42d0449b3",
   "metadata": {
    "tags": []
   },
   "source": [
    "#### 1st"
   ]
  },
  {
   "cell_type": "code",
   "execution_count": 7,
   "id": "2278b9e1-df80-4973-b5ee-7ea15f281a28",
   "metadata": {
    "tags": []
   },
   "outputs": [
    {
     "name": "stdout",
     "output_type": "stream",
     "text": [
      "<class 'int'>\n",
      "<class 'float'>\n",
      "<class 'complex'>\n"
     ]
    }
   ],
   "source": [
    "print(type(10))\n",
    "print(type(1.00))\n",
    "print(type(10+ 5j))"
   ]
  },
  {
   "cell_type": "markdown",
   "id": "06c19caf-4858-41f4-a986-413d7ef47852",
   "metadata": {},
   "source": [
    "#### 2nd"
   ]
  },
  {
   "cell_type": "code",
   "execution_count": 13,
   "id": "03b2bf2a-6d3c-47e6-80d6-132863972e00",
   "metadata": {
    "tags": []
   },
   "outputs": [
    {
     "name": "stdout",
     "output_type": "stream",
     "text": [
      "2.0\n",
      "1.0\n"
     ]
    }
   ],
   "source": [
    "com = 1+2j\n",
    "\n",
    "# Print Imaginary Part Here\n",
    "print(com.imag)\n",
    "# Print Real Part Here\n",
    "print(com.real)"
   ]
  },
  {
   "cell_type": "markdown",
   "id": "9ef404f0-7dcc-4238-a4c9-b255ec5905f9",
   "metadata": {},
   "source": [
    "#### 3rd"
   ]
  },
  {
   "cell_type": "code",
   "execution_count": 27,
   "id": "ac40aad1-8711-4e4c-aa2b-fd1b90a458fa",
   "metadata": {
    "tags": []
   },
   "outputs": [
    {
     "data": {
      "text/plain": [
       "'10.0000000000'"
      ]
     },
     "execution_count": 27,
     "metadata": {},
     "output_type": "execute_result"
    }
   ],
   "source": [
    "num = 10\n",
    "\n",
    "# Needed Ouput\n",
    "# 10.0000000000\n",
    "f'{num:.10f}'"
   ]
  },
  {
   "cell_type": "markdown",
   "id": "f412957b-52cd-4f60-81cb-0e504e6390f6",
   "metadata": {
    "tags": []
   },
   "source": [
    "#### 4th"
   ]
  },
  {
   "cell_type": "code",
   "execution_count": 30,
   "id": "45d33127-3258-46bc-8b41-45380bdf2136",
   "metadata": {
    "tags": []
   },
   "outputs": [
    {
     "name": "stdout",
     "output_type": "stream",
     "text": [
      "159\n",
      "<class 'int'>\n"
     ]
    }
   ],
   "source": [
    "num = 159.650\n",
    "\n",
    "num = int(num)\n",
    "# Needed Output\n",
    "# 159\n",
    "print(num)\n",
    "\n",
    "# <class 'int'>\n",
    "print(type(num))"
   ]
  },
  {
   "cell_type": "markdown",
   "id": "3e3170bd-ce1d-44e8-84b9-9c60fdc697db",
   "metadata": {
    "tags": []
   },
   "source": [
    "#### 5th"
   ]
  },
  {
   "cell_type": "code",
   "execution_count": 34,
   "id": "8925f4ae-d59c-4168-a7bf-a9a671cdb48a",
   "metadata": {
    "tags": []
   },
   "outputs": [
    {
     "data": {
      "text/plain": [
       "4"
      ]
     },
     "execution_count": 34,
     "metadata": {},
     "output_type": "execute_result"
    }
   ],
   "source": [
    "# 100 ? 115 = -15\n",
    "100 - 115\n",
    "# 50 ? 30 = 1500\n",
    "50 * 30 \n",
    "# 21 ? 4 = 1\n",
    "21 % 4\n",
    "# 110 ? 11 = 10\n",
    "110 / 11\n",
    "# 97 ? 20 = 4\n",
    "97 // 20"
   ]
  }
 ],
 "metadata": {
  "kernelspec": {
   "display_name": "Python 3 (ipykernel)",
   "language": "python",
   "name": "python3"
  },
  "language_info": {
   "codemirror_mode": {
    "name": "ipython",
    "version": 3
   },
   "file_extension": ".py",
   "mimetype": "text/x-python",
   "name": "python",
   "nbconvert_exporter": "python",
   "pygments_lexer": "ipython3",
   "version": "3.11.4"
  }
 },
 "nbformat": 4,
 "nbformat_minor": 5
}
