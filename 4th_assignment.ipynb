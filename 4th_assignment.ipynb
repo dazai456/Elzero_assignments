{
 "cells": [
  {
   "cell_type": "markdown",
   "id": "7b47a44c-6e9b-4851-b1f5-a51db36029ea",
   "metadata": {
    "tags": []
   },
   "source": [
    "# 21 => 23"
   ]
  },
  {
   "cell_type": "markdown",
   "id": "2ef2850b-14c6-41b9-8224-f44c8db88b4c",
   "metadata": {
    "tags": []
   },
   "source": [
    "#### 01"
   ]
  },
  {
   "cell_type": "code",
   "execution_count": 18,
   "id": "874196eb-9d0a-4db5-b53d-570e4d5e1e50",
   "metadata": {},
   "outputs": [
    {
     "name": "stdout",
     "output_type": "stream",
     "text": [
      "Osama\n",
      "Osama\n",
      "Mahmoud\n",
      "Mahmoud\n"
     ]
    }
   ],
   "source": [
    "friends = [\"Osama\", \"Ahmed\", \"Sayed\", \"Ali\", \"Mahmoud\"]\n",
    "\n",
    "# Needed Output\n",
    "# \"Osama\" => Method One\n",
    "print(friends[0])\n",
    "# \"Osama\" => Method Two\n",
    "print(friends[-5])\n",
    "# \"Mahmoud\" => Method One\n",
    "print(friends[-1])\n",
    "# \"Mahmoud\" => Method Two\n",
    "print(friends[len(friends)-1])"
   ]
  },
  {
   "cell_type": "markdown",
   "id": "8a0f6173-598c-4de6-8a76-03a9ff214a39",
   "metadata": {
    "tags": []
   },
   "source": [
    "#### 02"
   ]
  },
  {
   "cell_type": "code",
   "execution_count": 13,
   "id": "9f801578-be01-48b0-8aae-7ff8f087ed64",
   "metadata": {},
   "outputs": [
    {
     "name": "stdout",
     "output_type": "stream",
     "text": [
      "['Osama', 'Ahmed', 'Sayed']\n",
      "['Ahmed', 'Ali']\n"
     ]
    }
   ],
   "source": [
    "friends = [\"Osama\", \"Ahmed\", \"Sayed\", \"Ali\", \"Mahmoud\"]\n",
    "\n",
    "# Needed Output\n",
    "# \"Osama\", \"Sayed\", \"Mahmoud\"\n",
    "print(friends[:3])\n",
    "# \"Ahmed\", \"Ali\"\n",
    "print(friends[1:4:2])"
   ]
  },
  {
   "cell_type": "markdown",
   "id": "d8c3d0bb-74d7-4414-8f22-e1ae75466171",
   "metadata": {
    "tags": []
   },
   "source": [
    "#### 03"
   ]
  },
  {
   "cell_type": "code",
   "execution_count": 15,
   "id": "818a3cb8-abf9-4d36-b53c-54a54e060331",
   "metadata": {},
   "outputs": [
    {
     "name": "stdout",
     "output_type": "stream",
     "text": [
      "['Ahmed', 'Sayed', 'Ali']\n",
      "['Ali', 'Mahmoud']\n"
     ]
    }
   ],
   "source": [
    "friends = [\"Osama\", \"Ahmed\", \"Sayed\", \"Ali\", \"Mahmoud\"]\n",
    "\n",
    "# Needed Output\n",
    "# \"Ahmed\", \"Sayed\", \"Ali\"\n",
    "print(friends[1:4])\n",
    "# \"Ali\", \"Mahmoud\"\n",
    "print(friends[-2:])"
   ]
  },
  {
   "cell_type": "markdown",
   "id": "666929dc-971d-4f79-88c0-9323ace17687",
   "metadata": {
    "tags": []
   },
   "source": [
    "#### 04"
   ]
  },
  {
   "cell_type": "code",
   "execution_count": 20,
   "id": "14f4bd79-fab9-4589-b0ee-6d0b7ad0aa9c",
   "metadata": {},
   "outputs": [
    {
     "name": "stdout",
     "output_type": "stream",
     "text": [
      "['Osama', 'Ahmed', 'Sayed', 'Elzero', 'Elzero']\n"
     ]
    }
   ],
   "source": [
    "friends = [\"Osama\", \"Ahmed\", \"Sayed\", \"Ali\", \"Mahmoud\"]\n",
    "\n",
    "# Needed Output\n",
    "# [\"Osama\", \"Ahmed\", \"Sayed\", \"Elzero\", \"Elzero\"]\n",
    "friends[-1], friends[-2] = 'Elzero', 'Elzero'\n",
    "print(friends)"
   ]
  },
  {
   "cell_type": "markdown",
   "id": "d0fcc257-d3e0-4742-9d47-06b2486ebf6b",
   "metadata": {
    "tags": []
   },
   "source": [
    "#### 05"
   ]
  },
  {
   "cell_type": "code",
   "execution_count": 24,
   "id": "af459a11-a3fb-4f91-918f-f4cf9a135bdc",
   "metadata": {},
   "outputs": [
    {
     "name": "stdout",
     "output_type": "stream",
     "text": [
      "['Nasser', 'Osama', 'Ahmed', 'Sayed']\n",
      "['Nasser', 'Osama', 'Ahmed', 'Sayed', 'Salem']\n"
     ]
    }
   ],
   "source": [
    "friends = [\"Osama\", \"Ahmed\", \"Sayed\"]\n",
    "\n",
    "# Needed Output\n",
    "# [\"Nasser\", \"Osama\", \"Ahmed\", \"Sayed\"]\n",
    "friends.insert(0, 'Nasser')\n",
    "print(friends)\n",
    "# [\"Nasser\", \"Osama\", \"Ahmed\", \"Sayed\", \"Salem\"]\n",
    "friends.append('Salem')\n",
    "print(friends)"
   ]
  },
  {
   "cell_type": "markdown",
   "id": "ed1d7e03-7320-44de-bfbf-cc11ed6eca47",
   "metadata": {
    "tags": []
   },
   "source": [
    "#### 06"
   ]
  },
  {
   "cell_type": "code",
   "execution_count": 34,
   "id": "e7dc983c-3ea9-4cef-bf7e-c23b90419c90",
   "metadata": {},
   "outputs": [
    {
     "name": "stdout",
     "output_type": "stream",
     "text": [
      "['Ahmed', 'Sayed', 'Salem']\n",
      "['Ahmed', 'Sayed']\n"
     ]
    }
   ],
   "source": [
    "friends = [\"Nasser\", \"Osama\", \"Ahmed\", \"Sayed\", \"Salem\"]\n",
    "\n",
    "# Needed Output\n",
    "# [\"Ahmed\", \"Sayed\", \"Salem\"]\n",
    "friends = friends[2:]\n",
    "print(friends)\n",
    "# [\"Ahmed\", \"Sayed\"]\n",
    "friends.pop(-1)\n",
    "print(friends)"
   ]
  },
  {
   "cell_type": "markdown",
   "id": "bc04ce02-5079-4283-87e9-6cc08cba8701",
   "metadata": {
    "tags": []
   },
   "source": [
    "#### 07"
   ]
  },
  {
   "cell_type": "code",
   "execution_count": 35,
   "id": "340030dc-1644-4ae1-a3f7-30b528a49558",
   "metadata": {},
   "outputs": [
    {
     "name": "stdout",
     "output_type": "stream",
     "text": [
      "['Ahmed', 'Sayed', 'Samah', 'Eman', 'Ramy', 'Shady']\n"
     ]
    }
   ],
   "source": [
    "friends = [\"Ahmed\", \"Sayed\"]\n",
    "employees = [\"Samah\", \"Eman\"]\n",
    "school = [\"Ramy\", \"Shady\"]\n",
    "\n",
    "# Needed Output\n",
    "# [\"Ahmed\", \"Sayed\", \"Samah\", \"Eman\", \"Ramy\", \"Shady\"]\n",
    "friends = friends + employees + school\n",
    "print(friends)"
   ]
  },
  {
   "cell_type": "markdown",
   "id": "8a5d20dd-a447-4bfe-a591-e8126847e462",
   "metadata": {
    "tags": []
   },
   "source": [
    "#### 08"
   ]
  },
  {
   "cell_type": "code",
   "execution_count": 37,
   "id": "edd8512e-0cfd-4724-8557-00cc09b54fe7",
   "metadata": {},
   "outputs": [
    {
     "name": "stdout",
     "output_type": "stream",
     "text": [
      "['Ahmed', 'Eman', 'Ramy', 'Samah', 'Sayed', 'Shady']\n",
      "['Shady', 'Sayed', 'Samah', 'Ramy', 'Eman', 'Ahmed']\n"
     ]
    }
   ],
   "source": [
    "friends = [\"Ahmed\", \"Sayed\", \"Samah\", \"Eman\", \"Ramy\", \"Shady\"]\n",
    "\n",
    "# Needed Output\n",
    "# ['Ahmed', 'Eman', 'Ramy', 'Samah', 'Sayed', 'Shady']\n",
    "friends.sort()\n",
    "print(friends)\n",
    "# ['Shady', 'Sayed', 'Samah', 'Ramy', 'Eman', 'Ahmed']\n",
    "friends.reverse()\n",
    "print(friends)"
   ]
  },
  {
   "cell_type": "markdown",
   "id": "e24ab53f-1547-436e-a185-356c87ec9c30",
   "metadata": {
    "tags": []
   },
   "source": [
    "#### 09"
   ]
  },
  {
   "cell_type": "code",
   "execution_count": 38,
   "id": "d8b3ea47-1052-4b66-b0d2-f092440c5648",
   "metadata": {},
   "outputs": [
    {
     "data": {
      "text/plain": [
       "6"
      ]
     },
     "execution_count": 38,
     "metadata": {},
     "output_type": "execute_result"
    }
   ],
   "source": [
    "friends = [\"Ahmed\", \"Sayed\", \"Samah\", \"Eman\", \"Ramy\", \"Shady\"]\n",
    "\n",
    "# Needed Output\n",
    "# 6\n",
    "len(friends)"
   ]
  },
  {
   "cell_type": "markdown",
   "id": "a3cad23e-bfa5-4c39-8215-106217396ab1",
   "metadata": {
    "tags": []
   },
   "source": [
    "#### 10"
   ]
  },
  {
   "cell_type": "code",
   "execution_count": 40,
   "id": "faaec747-2c77-47ab-9c17-6de984136f13",
   "metadata": {},
   "outputs": [
    {
     "name": "stdout",
     "output_type": "stream",
     "text": [
      "Django\n",
      "Web\n"
     ]
    }
   ],
   "source": [
    "technologies = [\"Html\", \"CSS\", \"JS\", \"Python\", [\"Django\", \"Flask\", \"Web\"]]\n",
    "\n",
    "# Needed Output\n",
    "# Django\n",
    "print(technologies[-1][0])\n",
    "# Web\n",
    "print(technologies[-1][-1])"
   ]
  }
 ],
 "metadata": {
  "kernelspec": {
   "display_name": "Python 3 (ipykernel)",
   "language": "python",
   "name": "python3"
  },
  "language_info": {
   "codemirror_mode": {
    "name": "ipython",
    "version": 3
   },
   "file_extension": ".py",
   "mimetype": "text/x-python",
   "name": "python",
   "nbconvert_exporter": "python",
   "pygments_lexer": "ipython3",
   "version": "3.11.4"
  }
 },
 "nbformat": 4,
 "nbformat_minor": 5
}
