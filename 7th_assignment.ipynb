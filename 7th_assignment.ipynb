{
 "cells": [
  {
   "cell_type": "markdown",
   "id": "9b0a12a0-03d8-4385-8359-8bd007236aa4",
   "metadata": {},
   "source": [
    "# 33 => 37"
   ]
  },
  {
   "cell_type": "markdown",
   "id": "e62f649b-d217-4596-a261-7f58df310c32",
   "metadata": {
    "tags": []
   },
   "source": [
    "#### 01"
   ]
  },
  {
   "cell_type": "code",
   "execution_count": 4,
   "id": "0cc91847-a252-4321-ba8e-69fe9554b5a3",
   "metadata": {
    "tags": []
   },
   "outputs": [
    {
     "name": "stdout",
     "output_type": "stream",
     "text": [
      "True\n",
      "True\n",
      "True\n",
      "True\n",
      "False\n",
      "False\n",
      "False\n",
      "False\n"
     ]
    }
   ],
   "source": [
    "# Needed Output\n",
    "\n",
    "# True\n",
    "print(bool(1))\n",
    "# True\n",
    "print(bool(\"hello\"))\n",
    "# True\n",
    "print(bool(True))\n",
    "# True\n",
    "print(bool([1,2]))\n",
    "# False\n",
    "print(bool())\n",
    "# False\n",
    "print(bool([]))\n",
    "# False\n",
    "print(bool(False))\n",
    "# False\n",
    "print(bool(0))"
   ]
  },
  {
   "cell_type": "markdown",
   "id": "9861c9c9-c592-4258-b0ff-a43dd0eb91c2",
   "metadata": {
    "tags": []
   },
   "source": [
    "#### 02"
   ]
  },
  {
   "cell_type": "code",
   "execution_count": 7,
   "id": "3550a4d1-8a14-489e-af67-ecbc826419a1",
   "metadata": {
    "tags": []
   },
   "outputs": [
    {
     "name": "stdout",
     "output_type": "stream",
     "text": [
      "True\n"
     ]
    }
   ],
   "source": [
    "html = 80\n",
    "css = 60\n",
    "js = 70\n",
    "\n",
    "# Needed Output\n",
    "# True\n",
    "print(bool(html > 50 and css > 50 and js > 50))"
   ]
  },
  {
   "cell_type": "markdown",
   "id": "c10bd96d-79dd-412a-b7ca-fc8fb38ac49b",
   "metadata": {
    "tags": []
   },
   "source": [
    "#### 03"
   ]
  },
  {
   "cell_type": "code",
   "execution_count": 8,
   "id": "bd597c0f-d003-402a-9c4a-68342a6751a0",
   "metadata": {
    "tags": []
   },
   "outputs": [
    {
     "name": "stdout",
     "output_type": "stream",
     "text": [
      "True\n",
      "False\n"
     ]
    }
   ],
   "source": [
    "num_one = 10\n",
    "num_two = 20\n",
    "num = 20\n",
    "\n",
    "# Needed Output\n",
    "# True\n",
    "print(bool(num > num_one or num > num_two))\n",
    "# False\n",
    "print(bool(num > num_one and num > num_two))"
   ]
  },
  {
   "cell_type": "markdown",
   "id": "3bfc5979-dc95-43e0-bf51-93f127e370ef",
   "metadata": {
    "tags": []
   },
   "source": [
    "#### 04"
   ]
  },
  {
   "cell_type": "code",
   "execution_count": 18,
   "id": "49ddac25-4ff5-4043-8b62-9d897ed9368d",
   "metadata": {
    "tags": []
   },
   "outputs": [
    {
     "name": "stdout",
     "output_type": "stream",
     "text": [
      "30\n",
      "27000\n",
      "1000\n",
      "200.0\n",
      "<class 'str'>\n"
     ]
    }
   ],
   "source": [
    "num_one = 10\n",
    "num_two = 20\n",
    "result = num_one + num_two\n",
    "# Needed Output\n",
    "# 30\n",
    "print(result)\n",
    "# 27000\n",
    "print(result ** 3)\n",
    "# 1000\n",
    "print((result ** 3) % 26000)\n",
    "# 200.0\n",
    "print(((result ** 3) % 26000) / 5)\n",
    "# <class 'str'>\n",
    "print(type(str(((result ** 3) % 26000) / 5)))"
   ]
  }
 ],
 "metadata": {
  "kernelspec": {
   "display_name": "Python 3 (ipykernel)",
   "language": "python",
   "name": "python3"
  },
  "language_info": {
   "codemirror_mode": {
    "name": "ipython",
    "version": 3
   },
   "file_extension": ".py",
   "mimetype": "text/x-python",
   "name": "python",
   "nbconvert_exporter": "python",
   "pygments_lexer": "ipython3",
   "version": "3.11.4"
  }
 },
 "nbformat": 4,
 "nbformat_minor": 5
}
