{
 "cells": [
  {
   "cell_type": "markdown",
   "id": "2c97155d-d53b-4a26-99b3-80f32410c745",
   "metadata": {},
   "source": [
    "# 38 => 40"
   ]
  },
  {
   "cell_type": "markdown",
   "id": "7766faa2-d3e1-47c9-9ece-7c5bd10ca0b3",
   "metadata": {
    "tags": []
   },
   "source": [
    "#### 01"
   ]
  },
  {
   "cell_type": "code",
   "execution_count": 1,
   "id": "6fae3a69-a79f-4d6f-bf54-fc986bb8aee2",
   "metadata": {
    "tags": []
   },
   "outputs": [
    {
     "name": "stdin",
     "output_type": "stream",
     "text": [
      "Enter your name: d\n"
     ]
    },
    {
     "name": "stdout",
     "output_type": "stream",
     "text": [
      "Hello d, Happy To See You Here.\n"
     ]
    }
   ],
   "source": [
    "name = input(\"Enter your name:\")\n",
    "\n",
    "# Needed Output\n",
    "# \"Hello Osama, Happy To See You Here.\"\n",
    "print(f\"Hello {name.strip()}, Happy To See You Here.\")"
   ]
  },
  {
   "cell_type": "markdown",
   "id": "ddad3bcc-0d94-4021-bbeb-e00e7444d5a3",
   "metadata": {
    "tags": []
   },
   "source": [
    "#### 02"
   ]
  },
  {
   "cell_type": "code",
   "execution_count": 3,
   "id": "0af36be3-f10d-4b38-b489-68258083b060",
   "metadata": {
    "tags": []
   },
   "outputs": [
    {
     "name": "stdin",
     "output_type": "stream",
     "text": [
      "Enter your age:  3\n"
     ]
    },
    {
     "name": "stdout",
     "output_type": "stream",
     "text": [
      "Hello Your Age Is Under 16, Some Articles Is Not Suitable For You\n"
     ]
    }
   ],
   "source": [
    "try:\n",
    "    age = int(input('Enter your age: '))\n",
    "except (ValueError, TypeError):\n",
    "    print('you should enter a number')\n",
    "\n",
    "if age > 16:\n",
    "    print(f\"Hello Your Age Is {age}, All Articles Is Suitable For You\")\n",
    "elif age < 16:\n",
    "    print(f\"Hello Your Age Is Under 16, Some Articles Is Not Suitable For You\")"
   ]
  },
  {
   "cell_type": "markdown",
   "id": "597d016a-e465-41b7-97b2-73dd943c0176",
   "metadata": {},
   "source": [
    "#### 03"
   ]
  },
  {
   "cell_type": "code",
   "execution_count": 4,
   "id": "17684567-a2ce-473f-8d96-4c5feb7a7ea7",
   "metadata": {},
   "outputs": [
    {
     "name": "stdin",
     "output_type": "stream",
     "text": [
      "Enter your first name Ibrahim\n",
      "Enter you last name Nader\n"
     ]
    },
    {
     "name": "stdout",
     "output_type": "stream",
     "text": [
      "Hello Ibrahim N.\n"
     ]
    }
   ],
   "source": [
    "fname = input('Enter your first name')\n",
    "lname = input('Enter you last name')\n",
    "\n",
    "print(f\"Hello {fname} {lname[0]}.\")"
   ]
  },
  {
   "cell_type": "code",
   "execution_count": 15,
   "id": "3812f6c5-6d1b-4446-a2b9-26db59af583c",
   "metadata": {},
   "outputs": [
    {
     "name": "stdout",
     "output_type": "stream",
     "text": [
      "Your Name Is Osama\n",
      "Email Service Provider Is @Nn\n",
      "Top Level Domain Is .Sa\n"
     ]
    }
   ],
   "source": [
    "# Inputs\n",
    "\n",
    "email = \"Osama@Nn.Sa\" # Email\n",
    "\n",
    "# Needed Output\n",
    "print(f\"Your Name Is {email[:email.index('@')]}\")\n",
    "print(f\"Email Service Provider Is {email[email.index('@'):email.index('.')]}\")\n",
    "print(f\"Top Level Domain Is {email[email.index('.'):]}\")"
   ]
  }
 ],
 "metadata": {
  "kernelspec": {
   "display_name": "Python 3 (ipykernel)",
   "language": "python",
   "name": "python3"
  },
  "language_info": {
   "codemirror_mode": {
    "name": "ipython",
    "version": 3
   },
   "file_extension": ".py",
   "mimetype": "text/x-python",
   "name": "python",
   "nbconvert_exporter": "python",
   "pygments_lexer": "ipython3",
   "version": "3.11.4"
  }
 },
 "nbformat": 4,
 "nbformat_minor": 5
}
